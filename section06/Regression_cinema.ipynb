{
 "cells": [
  {
   "cell_type": "code",
   "execution_count": null,
   "id": "edf33c3a-d316-4aa9-8ca3-fb2fb98417a5",
   "metadata": {},
   "outputs": [],
   "source": [
    "import pandas as pd\n",
    "df = pd.read_csv(\"./cinema.csv\")\n",
    "df.head(3)"
   ]
  },
  {
   "cell_type": "code",
   "execution_count": null,
   "id": "ce578040-8972-4eef-b8a4-451dbe163bf7",
   "metadata": {},
   "outputs": [],
   "source": [
    "df.isnull().any(axis = 0)"
   ]
  },
  {
   "cell_type": "code",
   "execution_count": null,
   "id": "7b376246-7193-44b3-9e7b-ae85dd6022f8",
   "metadata": {},
   "outputs": [],
   "source": [
    "df.isnull().sum()"
   ]
  },
  {
   "cell_type": "code",
   "execution_count": null,
   "id": "dbaa9750-f149-4db4-981b-46536a447ecf",
   "metadata": {},
   "outputs": [],
   "source": [
    "df2 = df.fillna(df.mean())\n",
    "df2.isnull().any(axis = 0)"
   ]
  },
  {
   "cell_type": "code",
   "execution_count": null,
   "id": "c1a1980d-306c-4212-ad49-d570a14d0aad",
   "metadata": {},
   "outputs": [],
   "source": [
    "%matplotlib inline"
   ]
  },
  {
   "cell_type": "code",
   "execution_count": null,
   "id": "dd5574f1-d1fa-4e77-8d52-1d9dc7020328",
   "metadata": {},
   "outputs": [],
   "source": [
    "df.plot(kind = \"scatter\", x = \"SNS2\", y = \"sales\")"
   ]
  },
  {
   "cell_type": "code",
   "execution_count": null,
   "id": "dd9c8164-0f55-4d31-97ed-959a1eb2d04f",
   "metadata": {},
   "outputs": [],
   "source": [
    "for name in df2.columns:\n",
    "    if name == \"cinema_id\" or name == \"sales\":\n",
    "        continue\n",
    "    df2.plot(kind = \"scatter\", x = name, y = \"sales\")"
   ]
  },
  {
   "cell_type": "code",
   "execution_count": null,
   "id": "b86a2026-52f4-4e37-9471-2baadb1f8f26",
   "metadata": {},
   "outputs": [],
   "source": [
    "no = df2[(df2[\"SNS2\"] > 1000) & (df2[\"sales\"] < 8500)].index\n",
    "df3 = df2.drop(no, axis = 0)"
   ]
  },
  {
   "cell_type": "code",
   "execution_count": null,
   "id": "584aed56-8b36-49f2-b03a-4c63e5c1f879",
   "metadata": {},
   "outputs": [],
   "source": [
    "test = pd.DataFrame(\n",
    "{\n",
    "    \"Acolumn\": [1, 2, 3],\n",
    "    \"Bcolumn\": [4, 5, 6]\n",
    "}\n",
    ")"
   ]
  },
  {
   "cell_type": "code",
   "execution_count": null,
   "id": "e037fd2a-aa3b-4463-998f-82cfb0da323f",
   "metadata": {},
   "outputs": [],
   "source": [
    "test"
   ]
  },
  {
   "cell_type": "code",
   "execution_count": null,
   "id": "7fb78fdc-ba17-48ca-8856-537ff147f59c",
   "metadata": {},
   "outputs": [],
   "source": [
    "test[test[\"Acolumn\"] < 2].index"
   ]
  },
  {
   "cell_type": "code",
   "execution_count": null,
   "id": "7f6cfc6f-13fd-4f91-9ea3-6fd97748378a",
   "metadata": {},
   "outputs": [],
   "source": [
    "test.index"
   ]
  },
  {
   "cell_type": "code",
   "execution_count": null,
   "id": "1356807f-fd6f-4e1e-bd53-048d418edcae",
   "metadata": {},
   "outputs": [],
   "source": [
    "test[\"Acolumn\"] > 1"
   ]
  },
  {
   "cell_type": "code",
   "execution_count": null,
   "id": "486378ee-e9ca-40e2-a8f0-e57bd1b1d63c",
   "metadata": {},
   "outputs": [],
   "source": [
    "test.index > 1"
   ]
  },
  {
   "cell_type": "code",
   "execution_count": null,
   "id": "d2f8328e-3d05-48bd-9001-94ac8573c705",
   "metadata": {},
   "outputs": [],
   "source": [
    "test.index > 1"
   ]
  },
  {
   "cell_type": "code",
   "execution_count": null,
   "id": "7209cc98-6005-4894-8e13-2148dc5260a1",
   "metadata": {},
   "outputs": [],
   "source": [
    "df3 = df2.drop(no, axis = 0)\n",
    "df3.shape"
   ]
  },
  {
   "cell_type": "code",
   "execution_count": null,
   "id": "5379b15b-4848-4309-b4ed-260a53268d90",
   "metadata": {},
   "outputs": [],
   "source": [
    "col = [\"SNS1\", \"SNS2\", \"actor\", \"original\"]\n",
    "x = df3[col]\n",
    "t = df3[\"sales\"]"
   ]
  },
  {
   "cell_type": "code",
   "execution_count": null,
   "id": "93d90ce7-1707-4877-b8c6-2b41c1bdd187",
   "metadata": {},
   "outputs": [],
   "source": [
    "df3.loc[2, \"SNS1\"]"
   ]
  },
  {
   "cell_type": "code",
   "execution_count": null,
   "id": "cbca6895-48a1-4853-9c91-d23178b49b4d",
   "metadata": {},
   "outputs": [],
   "source": [
    "df3.loc[2]"
   ]
  },
  {
   "cell_type": "code",
   "execution_count": null,
   "id": "d55a85a2-00c2-4cd2-ab1a-e494de167988",
   "metadata": {},
   "outputs": [],
   "source": [
    "index = [2, 4, 6]\n",
    "col = [\"SNS1\", \"actor\"]\n",
    "df3.loc[index, col]"
   ]
  },
  {
   "cell_type": "code",
   "execution_count": null,
   "id": "a62c9242-1435-4154-8f9a-e4cea72b3b1c",
   "metadata": {},
   "outputs": [],
   "source": [
    "sample = [10, 20, 30, 40]\n",
    "sample[1 : 3]"
   ]
  },
  {
   "cell_type": "code",
   "execution_count": null,
   "id": "85e907e0-8efa-45da-9fa5-fecd91bf4505",
   "metadata": {},
   "outputs": [],
   "source": [
    "df3.loc[0 : 3, : \"actor\"]"
   ]
  },
  {
   "cell_type": "code",
   "execution_count": null,
   "id": "97d3a381-c55e-4e46-a3ee-35dd43b7fe6c",
   "metadata": {},
   "outputs": [],
   "source": [
    "x = df3.loc[:, \"SNS1\" : \"original\"]"
   ]
  },
  {
   "cell_type": "code",
   "execution_count": null,
   "id": "16c180d9-9e92-4afd-82b5-e1f1b7517998",
   "metadata": {},
   "outputs": [],
   "source": [
    "t =df3[\"sales\"]"
   ]
  },
  {
   "cell_type": "code",
   "execution_count": null,
   "id": "3482fcd7-76e2-4ae8-8f81-ba20776d9aa6",
   "metadata": {},
   "outputs": [],
   "source": [
    "from sklearn.model_selection import train_test_split\n",
    "x_train, x_test, y_train, y_test = train_test_split(x, t, test_size = 0.2, random_state = 0)"
   ]
  },
  {
   "cell_type": "code",
   "execution_count": null,
   "id": "b78ded88-8fe3-4327-9575-dc91837efd2d",
   "metadata": {},
   "outputs": [],
   "source": [
    "from sklearn.linear_model import LinearRegression"
   ]
  },
  {
   "cell_type": "code",
   "execution_count": null,
   "id": "2c29c039-90ca-4355-9d1b-1197b15a8070",
   "metadata": {},
   "outputs": [],
   "source": [
    "model = LinearRegression()"
   ]
  },
  {
   "cell_type": "code",
   "execution_count": null,
   "id": "b6d8fb07-f968-4c52-93d0-5fe975bafc02",
   "metadata": {},
   "outputs": [],
   "source": [
    "model.fit(x_train, y_train)"
   ]
  },
  {
   "cell_type": "code",
   "execution_count": null,
   "id": "38397890-ae58-48b1-9cc9-cdb25287a526",
   "metadata": {},
   "outputs": [],
   "source": [
    "new = [[150, 700, 300, 0]]\n",
    "model.predict(new)"
   ]
  },
  {
   "cell_type": "code",
   "execution_count": null,
   "id": "006d8ca1-d1d3-410b-a014-cb61113699a7",
   "metadata": {},
   "outputs": [],
   "source": [
    "from sklearn.metrics import mean_absolute_error\n",
    "pred = model.predict(x_test)\n",
    "\n",
    "mean_absolute_error(y_pred = pred, y_true = y_test)"
   ]
  },
  {
   "cell_type": "code",
   "execution_count": null,
   "id": "20c7858c-892e-4074-b73f-e0a051ba342a",
   "metadata": {},
   "outputs": [],
   "source": [
    "model.predict(x_test)"
   ]
  },
  {
   "cell_type": "code",
   "execution_count": null,
   "id": "10325355-5fb4-4d5f-bd70-c254ed871579",
   "metadata": {},
   "outputs": [],
   "source": [
    "y_test"
   ]
  },
  {
   "cell_type": "code",
   "execution_count": null,
   "id": "1d4eab30-193f-4891-bdd1-45e5271bceda",
   "metadata": {},
   "outputs": [],
   "source": [
    "model.score(x_test, y_test)"
   ]
  },
  {
   "cell_type": "code",
   "execution_count": null,
   "id": "50dd3dac-c7ba-40a7-bce8-b8019068a86d",
   "metadata": {},
   "outputs": [],
   "source": [
    "import pickle\n",
    "with open(\"cinema.pkl\", \"wb\") as f:\n",
    "    pickle.dump(model, f)"
   ]
  },
  {
   "cell_type": "code",
   "execution_count": null,
   "id": "8d1fb2c6-52bf-4b7f-9952-d0a8ccf1ee34",
   "metadata": {},
   "outputs": [],
   "source": [
    "print(model.coef_)"
   ]
  },
  {
   "cell_type": "code",
   "execution_count": null,
   "id": "c7e59583-2ff0-4020-b3e3-b36a6a2c0795",
   "metadata": {},
   "outputs": [],
   "source": [
    "print(model.intercept_)"
   ]
  },
  {
   "cell_type": "code",
   "execution_count": null,
   "id": "cc0c489f-763f-4ea4-992c-fa174359bd6e",
   "metadata": {},
   "outputs": [],
   "source": [
    "tmp = pd.DataFrame(model.coef_)\n",
    "tmp.index = x_train.columns"
   ]
  },
  {
   "cell_type": "code",
   "execution_count": null,
   "id": "20f13556-1d20-42b6-9221-f861c0f7ee44",
   "metadata": {},
   "outputs": [],
   "source": [
    "tmp"
   ]
  },
  {
   "cell_type": "code",
   "execution_count": null,
   "id": "2f78f719-ebb6-4898-8c52-242fa0bdeb9d",
   "metadata": {},
   "outputs": [],
   "source": []
  }
 ],
 "metadata": {
  "kernelspec": {
   "display_name": "Python 3 (ipykernel)",
   "language": "python",
   "name": "python3"
  },
  "language_info": {
   "codemirror_mode": {
    "name": "ipython",
    "version": 3
   },
   "file_extension": ".py",
   "mimetype": "text/x-python",
   "name": "python",
   "nbconvert_exporter": "python",
   "pygments_lexer": "ipython3",
   "version": "3.9.7"
  }
 },
 "nbformat": 4,
 "nbformat_minor": 5
}
